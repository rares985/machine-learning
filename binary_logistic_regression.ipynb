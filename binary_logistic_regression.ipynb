{
  "nbformat": 4,
  "nbformat_minor": 0,
  "metadata": {
    "colab": {
      "name": "binary_logistic_regression",
      "provenance": [],
      "collapsed_sections": [],
      "authorship_tag": "ABX9TyMXm+POOWnt4AJBOp4Oi8r5",
      "include_colab_link": true
    },
    "kernelspec": {
      "name": "python3",
      "display_name": "Python 3"
    }
  },
  "cells": [
    {
      "cell_type": "markdown",
      "metadata": {
        "id": "view-in-github",
        "colab_type": "text"
      },
      "source": [
        "<a href=\"https://colab.research.google.com/github/rares985/machine-learning/blob/master/binary_logistic_regression.ipynb\" target=\"_parent\"><img src=\"https://colab.research.google.com/assets/colab-badge.svg\" alt=\"Open In Colab\"/></a>"
      ]
    },
    {
      "cell_type": "code",
      "metadata": {
        "id": "uyc_YVVRh_2d",
        "colab_type": "code",
        "outputId": "dfd7b264-bd79-4984-f066-94be03fe769f",
        "colab": {
          "base_uri": "https://localhost:8080/",
          "height": 51
        }
      },
      "source": [
        "import tensorflow as tf\n",
        "import numpy as np\n",
        "\n",
        "(X_train, y_train), (X_test, y_test) = tf.keras.datasets.mnist.load_data(\"mnist.mpz\")"
      ],
      "execution_count": 1,
      "outputs": [
        {
          "output_type": "stream",
          "text": [
            "Downloading data from https://storage.googleapis.com/tensorflow/tf-keras-datasets/mnist.npz\n",
            "11493376/11490434 [==============================] - 0s 0us/step\n"
          ],
          "name": "stdout"
        }
      ]
    },
    {
      "cell_type": "markdown",
      "metadata": {
        "id": "930uedBjxg7V",
        "colab_type": "text"
      },
      "source": [
        "Since we are implementing binary classification, we are only keeping the two classes for digits $ 0 $ and $ 1 $. Also, we are adding the intercept term as usual:"
      ]
    },
    {
      "cell_type": "code",
      "metadata": {
        "id": "79fly1Q0jsgL",
        "colab_type": "code",
        "outputId": "193b2c83-6e10-4d3b-f8b2-0517e2914bcd",
        "colab": {
          "base_uri": "https://localhost:8080/",
          "height": 34
        }
      },
      "source": [
        "X_train_binary = X_train[(y_train==0)|(y_train==1)]\n",
        "y_train_binary = y_train[(y_train==0)|(y_train==1)].reshape(-1,1)\n",
        "\n",
        "X_test_binary = X_test[(y_test==0)|(y_test==1)]\n",
        "y_test_binary = y_test[(y_test==0)|(y_test==1)].reshape(-1, 1)\n",
        "\n",
        "X_train_binary = X_train_binary.reshape(-1, 28*28)\n",
        "X_test_binary = X_test_binary.reshape(-1, 28*28)\n",
        "m,n = X_train_binary.shape\n",
        "\n",
        "X_intercept = np.hstack((np.ones((m, 1)), X_train_binary))\n",
        "print(X_intercept.shape)\n"
      ],
      "execution_count": 31,
      "outputs": [
        {
          "output_type": "stream",
          "text": [
            "(12665, 785)\n"
          ],
          "name": "stdout"
        }
      ]
    },
    {
      "cell_type": "markdown",
      "metadata": {
        "id": "n6AoQRJTxsYV",
        "colab_type": "text"
      },
      "source": [
        "Here are the definitions for the *crossentropy* loss function and for the *sigmoid* activation function:"
      ]
    },
    {
      "cell_type": "code",
      "metadata": {
        "id": "Kj9GYt03nWt6",
        "colab_type": "code",
        "colab": {}
      },
      "source": [
        "def cross_entropy(predictions, targets, epsilon=1e-12):\n",
        "    \"\"\"\n",
        "    Computes cross entropy between targets (encoded as one-hot vectors)\n",
        "    and predictions. \n",
        "    Input: predictions (N, k) ndarray\n",
        "           targets (N, k) ndarray        \n",
        "    Returns: scalar\n",
        "    \"\"\"\n",
        "    predictions = np.clip(predictions, epsilon, 1. - epsilon)\n",
        "    N = predictions.shape[0]\n",
        "    ce = -np.sum(targets*np.log(predictions+1e-9))/N\n",
        "    return ce\n",
        "\n",
        "def sigmoid(x):                                        \n",
        "    return 1 / (1 + np.exp(-x))"
      ],
      "execution_count": 0,
      "outputs": []
    },
    {
      "cell_type": "markdown",
      "metadata": {
        "id": "nsERkn0Gx0NF",
        "colab_type": "text"
      },
      "source": [
        "And now the actual training: Note that the formula is almost identical to linear regression, with the exception that y_hat is now the result of the application of the sigmoid on the product rather than the product itself. We are also plotting the cost function evolution to see whether the regressor is converging."
      ]
    },
    {
      "cell_type": "code",
      "metadata": {
        "id": "SAggqnU2llV_",
        "colab_type": "code",
        "outputId": "e342217a-c559-4b92-b0c6-c3ae0c37dac9",
        "colab": {
          "base_uri": "https://localhost:8080/",
          "height": 300
        }
      },
      "source": [
        "import tqdm\n",
        "import matplotlib.pyplot as plt\n",
        "\n",
        "n_epochs = 25\n",
        "learning_rate = 1e-5\n",
        "\n",
        "theta = np.random.randn(n+1, 1)*np.sqrt(2/m)\n",
        "\n",
        "\n",
        "J_hist = []\n",
        "for n_ep in tqdm.tqdm(range(n_epochs)):\n",
        "    y_hat = sigmoid(X_intercept @ theta)\n",
        "\n",
        "    delta = y_hat - y_train_binary\n",
        "    \n",
        "    J = cross_entropy(y_hat, y_train_binary)\n",
        "    J_hist.append(J)\n",
        "\n",
        "    djdw = (1/m) * X_intercept.T @ delta\n",
        "\n",
        "    theta -= learning_rate * djdw\n",
        "\n",
        "\n",
        "plt.plot(J_hist)"
      ],
      "execution_count": 41,
      "outputs": [
        {
          "output_type": "stream",
          "text": [
            "100%|██████████| 25/25 [00:00<00:00, 33.15it/s]\n"
          ],
          "name": "stderr"
        },
        {
          "output_type": "execute_result",
          "data": {
            "text/plain": [
              "[<matplotlib.lines.Line2D at 0x7f38807630b8>]"
            ]
          },
          "metadata": {
            "tags": []
          },
          "execution_count": 41
        },
        {
          "output_type": "display_data",
          "data": {
            "image/png": "[encoded data removed]",
            "text/plain": [
              "<Figure size 432x288 with 1 Axes>"
            ]
          },
          "metadata": {
            "tags": [],
            "needs_background": "light"
          }
        }
      ]
    },
    {
      "cell_type": "markdown",
      "metadata": {
        "id": "QxH3BiY2yFFQ",
        "colab_type": "text"
      },
      "source": [
        "And now some predictions: Accuracy seems to be over 90 \\%."
      ]
    },
    {
      "cell_type": "code",
      "metadata": {
        "id": "82ST0J-il_7T",
        "colab_type": "code",
        "colab": {
          "base_uri": "https://localhost:8080/",
          "height": 34
        },
        "outputId": "00ebf443-bca4-4bd6-a4bd-4fc4a0d855f7"
      },
      "source": [
        "X_test_intercept = np.hstack((np.ones((X_test_binary.shape[0], 1)), X_test_binary))\n",
        "y_pred_binary = sigmoid(X_test_intercept @ theta)\n",
        "\n",
        "y_pred_labels = np.zeros_like(y_pred_binary)\n",
        "y_pred_labels[y_pred_binary >= 0.5] = 1\n",
        "\n",
        "\n",
        "\n",
        "import pandas as pd\n",
        "df = pd.DataFrame(data={'Predicted': y_pred_labels.reshape(-1, ).astype(np.int32), 'Actual': y_test_binary.reshape(-1,)}).head()\n",
        "\n",
        "guessed = np.sum(y_pred_labels == y_test_binary)\n",
        "total = y_test_binary.shape[0]\n",
        "\n",
        "acc = (guessed / total) * 100\n",
        "\n",
        "print('Accuracy is: {}'.format(acc))"
      ],
      "execution_count": 45,
      "outputs": [
        {
          "output_type": "stream",
          "text": [
            "Accuracy is: 94.60992907801419\n"
          ],
          "name": "stdout"
        }
      ]
    },
    {
      "cell_type": "code",
      "metadata": {
        "id": "-Luc4XxKunRv",
        "colab_type": "code",
        "colab": {}
      },
      "source": [
        ""
      ],
      "execution_count": 0,
      "outputs": []
    }
  ]
}