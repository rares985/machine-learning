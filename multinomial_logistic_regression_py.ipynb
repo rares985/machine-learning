{
  "nbformat": 4,
  "nbformat_minor": 0,
  "metadata": {
    "colab": {
      "name": "multinomial_logistic_regression.py",
      "provenance": [],
      "collapsed_sections": [],
      "authorship_tag": "ABX9TyN35fF8WnB2oh0sbZaXq4FO",
      "include_colab_link": true
    },
    "kernelspec": {
      "name": "python3",
      "display_name": "Python 3"
    },
    "accelerator": "GPU"
  },
  "cells": [
    {
      "cell_type": "markdown",
      "metadata": {
        "id": "view-in-github",
        "colab_type": "text"
      },
      "source": [
        "<a href=\"https://colab.research.google.com/github/rares985/machine-learning/blob/master/multinomial_logistic_regression_py.ipynb\" target=\"_parent\"><img src=\"https://colab.research.google.com/assets/colab-badge.svg\" alt=\"Open In Colab\"/></a>"
      ]
    },
    {
      "cell_type": "code",
      "metadata": {
        "id": "quz2X2kdynC2",
        "colab_type": "code",
        "colab": {
          "base_uri": "https://localhost:8080/",
          "height": 119
        },
        "outputId": "8573130e-28bf-4fe9-b415-aa9ee6dab84a"
      },
      "source": [
        "import tensorflow as tf\n",
        "import numpy as np\n",
        "\n",
        "(X_train, y_train), (X_test, y_test) = tf.keras.datasets.mnist.load_data(\"mnist.mpz\")\n",
        "\n",
        "X_train = X_train.reshape(-1, 28*28)\n",
        "X_test = X_test.reshape(-1, 28*28)\n",
        "\n",
        "m,n = X_train.shape\n",
        "k = np.unique(y_train).shape[0]\n",
        "\n",
        "X_intercept = np.hstack((np.ones((X_train.shape[0],1)), X_train))\n",
        "X_test_intercept = np.hstack((np.ones((X_test.shape[0],1)), X_test))\n",
        "\n",
        "\n",
        "y_train = y_train.reshape(-1, 1)\n",
        "y_test = y_test. reshape(-1, 1)\n",
        "\n",
        "print(X_intercept.shape)\n",
        "print(y_train.shape)\n",
        "print(X_test_intercept.shape)\n",
        "print(y_test.shape)"
      ],
      "execution_count": 1,
      "outputs": [
        {
          "output_type": "stream",
          "text": [
            "Downloading data from https://storage.googleapis.com/tensorflow/tf-keras-datasets/mnist.npz\n",
            "11493376/11490434 [==============================] - 0s 0us/step\n",
            "(60000, 785)\n",
            "(60000, 1)\n",
            "(10000, 785)\n",
            "(10000, 1)\n"
          ],
          "name": "stdout"
        }
      ]
    },
    {
      "cell_type": "markdown",
      "metadata": {
        "id": "FCyatd6KLN78",
        "colab_type": "text"
      },
      "source": [
        "Softmax function is defined as:\n"
      ]
    },
    {
      "cell_type": "code",
      "metadata": {
        "id": "DfGFAaye94kq",
        "colab_type": "code",
        "colab": {}
      },
      "source": [
        "def softmax(z):\n",
        "    z -= np.max(z)\n",
        "    numerator = np.exp(z)\n",
        "    denominator = np.sum(np.exp(z), axis=1).reshape(-1, 1)\n",
        "    sm = numerator / denominator\n",
        "    return sm\n",
        "\n",
        "def cross_entropy(predictions, targets, epsilon=1e-12):\n",
        "    \"\"\"\n",
        "    Computes cross entropy between targets (encoded as one-hot vectors)\n",
        "    and predictions. \n",
        "    Input: predictions (N, k) ndarray\n",
        "           targets (N, k) ndarray        \n",
        "    Returns: scalar\n",
        "    \"\"\"\n",
        "    predictions = np.clip(predictions, epsilon, 1. - epsilon)\n",
        "    N = predictions.shape[0]\n",
        "    ce = -np.sum(targets*np.log(predictions+1e-9))/N\n",
        "    return ce"
      ],
      "execution_count": 0,
      "outputs": []
    },
    {
      "cell_type": "code",
      "metadata": {
        "id": "VpL-dawHyu6E",
        "colab_type": "code",
        "colab": {
          "base_uri": "https://localhost:8080/",
          "height": 285
        },
        "outputId": "56cc9a13-20f2-44e3-8139-2b1f1d0d2fb4"
      },
      "source": [
        "import tqdm\n",
        "import matplotlib.pyplot as plt\n",
        "import seaborn as sns\n",
        "sns.set()\n",
        "\n",
        "learning_rate = 1e-4\n",
        "epochs = 25\n",
        "\n",
        "\n",
        "theta = np.random.randn(n+1, k) * np.sqrt(2 / m)\n",
        "\n",
        "J_hist = []\n",
        "y_train_oh = np.eye(k)[y_train].squeeze()\n",
        "\n",
        "for n_ep in tqdm.tqdm(range(epochs)):\n",
        "\n",
        "    # print('\\nX_int @ theta  = {} @ {}'.format(X_intercept.shape, theta.shape))\n",
        "    \n",
        "    z = X_intercept @ theta\n",
        "\n",
        "    # print('Z is of shape {}'.format(z.shape))\n",
        "    \n",
        "    y_hat = softmax(z)\n",
        "\n",
        "    # print('y_hat is of shape {}'.format(y_hat.shape))\n",
        "    \n",
        "    # print('y_train_oh is of shape {}'.format(y_train_oh.shape))\n",
        "    delta = y_hat - y_train_oh\n",
        "\n",
        "    # print('delta is of shape {}'.format(delta.shape))\n",
        "\n",
        "    J = cross_entropy(y_hat, y_train_oh)\n",
        "\n",
        "    J_hist.append(J)\n",
        "\n",
        "    djdw =  (1/m) *  X_intercept.T @ delta\n",
        "\n",
        "    # print('djdw is of shape {}'.format(djdw.shape))\n",
        "\n",
        "    theta -= learning_rate * djdw\n",
        "\n",
        "\n",
        "plt.plot(J_hist)\n",
        "plt.show()"
      ],
      "execution_count": 6,
      "outputs": [
        {
          "output_type": "stream",
          "text": [
            "100%|██████████| 25/25 [00:10<00:00,  2.28it/s]\n"
          ],
          "name": "stderr"
        },
        {
          "output_type": "display_data",
          "data": {
            "image/png": "[encoded data removed]",
            "text/plain": [
              "<Figure size 432x288 with 1 Axes>"
            ]
          },
          "metadata": {
            "tags": []
          }
        }
      ]
    },
    {
      "cell_type": "code",
      "metadata": {
        "id": "bSKDBpXa9zCS",
        "colab_type": "code",
        "colab": {
          "base_uri": "https://localhost:8080/",
          "height": 285
        },
        "outputId": "64440f9f-75f4-4a66-efa6-67b45b16fca4"
      },
      "source": [
        "from sklearn.metrics import classification_report, confusion_matrix\n",
        "\n",
        "y_pred = softmax(X_test_intercept @ theta)\n",
        "\n",
        "class_labels = np.argmax(y_pred, axis=1).reshape(-1, 1)\n",
        "\n",
        "cm = confusion_matrix(y_test, class_labels)\n",
        "\n",
        "sns.heatmap(cm,cmap='viridis')"
      ],
      "execution_count": 5,
      "outputs": [
        {
          "output_type": "execute_result",
          "data": {
            "text/plain": [
              "<matplotlib.axes._subplots.AxesSubplot at 0x7f75f6c80dd8>"
            ]
          },
          "metadata": {
            "tags": []
          },
          "execution_count": 5
        },
        {
          "output_type": "display_data",
          "data": {
            "image/png": "[encoded data removed]",
            "text/plain": [
              "<Figure size 432x288 with 2 Axes>"
            ]
          },
          "metadata": {
            "tags": []
          }
        }
      ]
    },
    {
      "cell_type": "code",
      "metadata": {
        "id": "73qQAfFlTvU6",
        "colab_type": "code",
        "colab": {}
      },
      "source": [
        ""
      ],
      "execution_count": 0,
      "outputs": []
    }
  ]
}