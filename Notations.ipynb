{
  "nbformat": 4,
  "nbformat_minor": 0,
  "metadata": {
    "colab": {
      "name": "Notations.ipynb",
      "provenance": [],
      "collapsed_sections": [],
      "toc_visible": true,
      "authorship_tag": "ABX9TyNQkDDT97EWSOQXQAK7W4Q8",
      "include_colab_link": true
    },
    "kernelspec": {
      "name": "python3",
      "display_name": "Python 3"
    }
  },
  "cells": [
    {
      "cell_type": "markdown",
      "metadata": {
        "id": "view-in-github",
        "colab_type": "text"
      },
      "source": [
        "<a href=\"https://colab.research.google.com/github/rares985/machine-learning/blob/master/Notations.ipynb\" target=\"_parent\"><img src=\"https://colab.research.google.com/assets/colab-badge.svg\" alt=\"Open In Colab\"/></a>"
      ]
    },
    {
      "cell_type": "markdown",
      "metadata": {
        "id": "3rk4LT71cOa-",
        "colab_type": "text"
      },
      "source": [
        "# Linear algebra notations\n",
        "\n",
        "The following notations will be used throughout the notebook collection:\n",
        "\n",
        "\n",
        "\n",
        "## Matrices\n"
      ]
    },
    {
      "cell_type": "markdown",
      "metadata": {
        "id": "KW_ZOc52ngSg",
        "colab_type": "text"
      },
      "source": [
        "## Vectors\n"
      ]
    },
    {
      "cell_type": "markdown",
      "metadata": {
        "id": "Eq6JStXmnwNS",
        "colab_type": "text"
      },
      "source": [
        "### Notation\n",
        "A vector is a collection of $ n $ numbers, placed in a column format. This is also reffered to as a *column vector*.\n",
        "Column vectors will be marked with a **bold lowercase letter**(either Latin or Greek), as follows:\n",
        "<br><br>\n",
        "$$\n",
        "\\mathbf{x} =\n",
        "\\begin{bmatrix}\n",
        "    x_1 \\\\\n",
        "    x_2 \\\\\n",
        "    \\vdots \\\\\n",
        "    x_n \\\\\n",
        "\\end{bmatrix}\n",
        "\\in \\mathbb{R}^{n\\times1}\n",
        "$$\n",
        "<br><br>\n",
        "If we want to represent a *row vector*, the vector will be noted as:\n",
        "<br><br>\n",
        "$$ \n",
        "\\mathbf{x}^{T}=\n",
        "\\begin{bmatrix}\n",
        "    x_1 & x_2 & \\dots & x_n \n",
        "\\end{bmatrix}\n",
        "\\in \\mathbb{R}^{1\\times n}\n",
        "$$"
      ]
    },
    {
      "cell_type": "markdown",
      "metadata": {
        "id": "8f9z8fOCn0Ip",
        "colab_type": "text"
      },
      "source": [
        "### Examples\n",
        "\n",
        "Let's take for example the vector which contains the first 4 even numbers:\n",
        "\n",
        "$$\n",
        "\\mathbf{x} = \n",
        "\\begin{bmatrix}\n",
        "2 \\\\\n",
        "4 \\\\\n",
        "6 \\\\\n",
        "8\n",
        "\\end{bmatrix}\n",
        "\\in \\mathbb{R}^{4 \\times 1}\n",
        "$$\n",
        "<br>\n",
        "This is a *column* vector, and the normal way we are going to write vectors. Whenever you see the word **vector**, you should think of its components placed in this format. Let's also write a *row* vector:\n",
        "<br><br>\n",
        "$$\n",
        "\\mathbf{y^T}=\n",
        "\\begin{bmatrix}\n",
        "1 & 3 & 5 & 7\n",
        "\\end{bmatrix}\n",
        "\\in \\mathbb{R}^{1 \\times 4}\n",
        "$$"
      ]
    },
    {
      "cell_type": "markdown",
      "metadata": {
        "id": "cUD9Kqoqnh4G",
        "colab_type": "text"
      },
      "source": [
        "## Matrices\n",
        "\n"
      ]
    },
    {
      "cell_type": "markdown",
      "metadata": {
        "id": "Jh-tM9iMn_Ak",
        "colab_type": "text"
      },
      "source": [
        "### Notation\n",
        "A matrix is a collection of $ m \\times n $ numbers. Matrices are usually marked with an **uppercase symbol** (i.e $ A $, $ X $):\n",
        "<br><br>\n",
        "$$ \n",
        "X=\n",
        "\\begin{bmatrix}\n",
        "    x_{11} & x_{12} & \\dots & x_{1n} \\\\\n",
        "    x_{21} & x_{22} & \\dots & x_{2n} \\\\\n",
        "    \\vdots & \\vdots & \\ddots & \\vdots \\\\\n",
        "    x_{m1} & x_{m2} & \\dots & x_{mn} \\\\\n",
        "\\end{bmatrix}\n",
        "\\in \\mathbb{R}^{m\\times n}\n",
        "$$.\n",
        "\n",
        "We can see that the element on the $ i $ row and $ j $ column will be marked with the lower-case letter of the matrix, with indices $ i $ and $ j $. In our case $ a_{ij} $. \n",
        "Sometimes, it is useful to write matrices either as a *row vector* of *column vectors*,\n",
        "<br><br>\n",
        "$$\n",
        "X=\n",
        "\\begin{bmatrix}\n",
        "    \\mathbf{x}_{1} & \\mathbf{x}_{2} & \\dots & \\mathbf{x}_{n}\n",
        "\\end{bmatrix}\n",
        "=\n",
        "\\begin{bmatrix}\n",
        "    \\vdots & \\vdots & \\dots & \\vdots \\\\\n",
        "    \\mathbf{x}_{1} & \\mathbf{x}_{2} & \\dots & \\mathbf{x}_{n} \\\\\n",
        "    \\vdots & \\vdots & \\dots & \\vdots \\\\\n",
        "\\end{bmatrix}\n",
        "$$\n",
        "<br><br>\n",
        "or as a *column vector* of *row vectors*:\n",
        "<br><br>\n",
        "$$\n",
        "X=\n",
        "\\begin{bmatrix}\n",
        "    \\mathbf{x}_{1}^{T} \\\\\n",
        "    \\mathbf{x}_{2}^{T} \\\\\n",
        "    \\vdots \\\\\n",
        "    \\mathbf{x}_{m}^{T}\n",
        "\\end{bmatrix}=\n",
        "\\begin{bmatrix}\n",
        "    \\dots & \\mathbf{x}_{1}^{T} & \\dots \\\\\n",
        "    \\dots & \\mathbf{x}_{2}^{T} & \\dots \\\\\n",
        "    \\vdots & \\vdots & \\vdots \\\\\n",
        "    \\dots & \\mathbf{x}_{m}^{T} & \\dots\n",
        "\\end{bmatrix}\n",
        "$$"
      ]
    },
    {
      "cell_type": "markdown",
      "metadata": {
        "id": "PPFGvFH5n_gu",
        "colab_type": "text"
      },
      "source": [
        "### Examples\n",
        "\n",
        "Let's take a $ 3 \\times 2 $ matrix, containing the first 6 even numbers.\n",
        "\n",
        "$$\n",
        "A=\n",
        "\\begin{bmatrix}\n",
        "2 & 4 \\\\\n",
        "6 & 8 \\\\\n",
        "10 & 12\n",
        "\\end{bmatrix}\n",
        "\\in \\mathbb{R}^{3 \\times 2}\n",
        "$$\n",
        "<br><br>\n",
        "Using the aforementioned notations, let's write a column vector:\n",
        "<br><br>\n",
        "$$\n",
        "\\mathbf{a}_{1}=\n",
        "\\begin{bmatrix}\n",
        "2 \\\\\n",
        "6 \\\\\n",
        "10\n",
        "\\end{bmatrix}\n",
        "\\in \\mathbb{R}^{3 \\times 1}\n",
        "$$\n",
        "<br><br>\n",
        "and a row vector:\n",
        "<br><br>\n",
        "$$\n",
        "\\mathbf{a}_{1}^{T}=\n",
        "\\begin{bmatrix}\n",
        "2 & 4\n",
        "\\end{bmatrix}\n",
        "\\in \\mathbb{R}^{1 \\times 2}\n",
        "$$\n",
        "<br><br>\n",
        "\n",
        "\n",
        "⚠️ ***We can see pretty quick that when those two notations are used together in the same equation, it is very easy to get confused. We will explain a workaround notation for that later.***\n",
        "\n"
      ]
    },
    {
      "cell_type": "markdown",
      "metadata": {
        "id": "oL79PLLTnjff",
        "colab_type": "text"
      },
      "source": [
        "# Machine learning notations\n",
        "\n",
        "\n",
        "\n"
      ]
    },
    {
      "cell_type": "markdown",
      "metadata": {
        "id": "3MstfDmMqSDW",
        "colab_type": "text"
      },
      "source": [
        "## Usual letters\n",
        "Here we are going to have some sort of glossary which explains what each letter usually denotes in a machine learning problem.\n",
        "\n",
        "|Notation|Explanation|\n",
        "|--------|-----------|\n",
        "| $ m $  |    Number of training samples                            |\n",
        "| $ n $  | Number of input features (dimensions of training sample) |\n",
        "| $ X $  | The dataset |\n",
        "| $ y $  | The output (target) variable |\n",
        "| $ \\theta $ | The weights of the model |\n",
        "| $ \\mathbb{w}$ | Same as $\\theta$ - weights of model |\n"
      ]
    },
    {
      "cell_type": "markdown",
      "metadata": {
        "id": "OH00bVmhqQkG",
        "colab_type": "text"
      },
      "source": [
        "### Training examples\n",
        "As mentioned, if we have a look at the matrix written as a row of columns or as a column of rows, we note that $\\mathbf{x}_{1}^{T}$ and $\\mathbf{x}_{1}$ are **different** vectors with **different elements**:\n",
        "\n",
        "$$\n",
        "\\mathbf{x}_{1}^{T} = \n",
        "\\begin{bmatrix}\n",
        "x_{11} & x_{12} \\dots x_{1n}\n",
        "\\end{bmatrix}\n",
        "\\in \\mathbb{R}^{1 \\times n}\n",
        "$$\n",
        "\n",
        "<br><br>\n",
        "which represents the first **row** of the matrix, where as $\\mathbf{x}_{1}$ is:\n",
        "<br><br>\n",
        "\n",
        "$$\n",
        "\\mathbf{x}_{1}^{T} = \n",
        "\\begin{bmatrix}\n",
        "x_{11} \\\\\n",
        "x_{21} \\\\\n",
        "\\vdots \\\\\n",
        "x_{m1}\n",
        "\\end{bmatrix}\n",
        "\\in \\mathbb{R}^{m \\times 1}\n",
        "$$\n",
        "\n",
        "<br><br>\n",
        "The two vectors not only are of *different* sizes, but the elements are different since: $ x_{ji} \\neq x_{ij} $. To avoid this confusion, the usual notations in machine learning are as follows:\n",
        "\n",
        "<br><br>\n",
        "#### Row vectors\n",
        "For the rows, instead of the $\\mathbf{x}_{i}^{T}$ notation, the $\\mathbf{x}^{(i)^{T}}$ is used, to denote the $i^{th}$ row (training example) in our dataset. As an example:\n",
        "$$\n",
        "\\mathbf{x}^{(i)^{T}}=\n",
        "\\begin{bmatrix}\n",
        "x_{1}^{(i)} &\n",
        "x_{2}^{(i)} &\n",
        "\\dots &\n",
        "x_{n}^{(i)}\n",
        "\\end{bmatrix}\n",
        "\\in \\mathbb{R}^{1 \\times n}\n",
        "$$\n",
        "\n",
        "#### Column vectors\n",
        "For the columns, the normal $\\mathbf{x}_{j}$ notation is used.\n",
        "\n",
        "$$\n",
        "\\mathbf{x}_{j}=\n",
        "\\begin{bmatrix}\n",
        "x_{j}^{(1)} \\\\\n",
        "x_{j}^{(2)} \\\\\n",
        "\\vdots \\\\\n",
        "x_{j}^{(m)} \\\\\n",
        "\\end{bmatrix}\n",
        "\\in \\mathbb{R}^{m \\times 1}\n",
        "$$\n",
        "\n",
        "\n",
        "### Training dataset\n",
        "Usually, the training dataset is denoted as $ X $, or $X_{train}$ in code. Using the notations explained before, the matrix $ X $ can be written in any of the following forms:\n",
        "<br><br>\n",
        "$$\n",
        "X=\n",
        "\\begin{bmatrix}\n",
        "    \\mathbf{x}^{(1)^{T}} \\\\\n",
        "    \\mathbf{x}^{(2)^{T}} \\\\\n",
        "    \\vdots \\\\\n",
        "    \\mathbf{x}^{(m)^{T}}\n",
        "\\end{bmatrix}=\n",
        "\\begin{bmatrix}\n",
        "    \\mathbf{x}_{1} &\n",
        "    \\mathbf{x}_{2} &\n",
        "    \\dots &\n",
        "    \\mathbf{x}_{n}\n",
        "\\end{bmatrix}=\n",
        "\\begin{bmatrix}\n",
        "    x_{1}^{(1)} & x_{2}^{(1)} & \\dots & x_{n}^{(1)} \\\\\n",
        "    x_{1}^{(2)} & x_{2}^{(2)} & \\dots & x_{n}^{(2)} \\\\\n",
        "    \\vdots & \\vdots & \\ddots & \\vdots \\\\\n",
        "    x_{1}^{(m)} & x_{2}^{(m)} & \\dots & x_{n}^{(m)} \\\\\n",
        "\\end{bmatrix}\n",
        "\\in \\mathbb{R}^{m \\times n}\n",
        "$$"
      ]
    }
  ]
}