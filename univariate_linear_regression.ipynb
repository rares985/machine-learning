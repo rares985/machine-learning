{
  "nbformat": 4,
  "nbformat_minor": 0,
  "metadata": {
    "colab": {
      "name": "univariate_linear_regression.ipynb",
      "provenance": [],
      "collapsed_sections": [],
      "authorship_tag": "ABX9TyPw7HxUmyPkpt4J5LSQuCoG",
      "include_colab_link": true
    },
    "kernelspec": {
      "name": "python3",
      "display_name": "Python 3"
    }
  },
  "cells": [
    {
      "cell_type": "markdown",
      "metadata": {
        "id": "view-in-github",
        "colab_type": "text"
      },
      "source": [
        "<a href=\"https://colab.research.google.com/github/rares985/machine-learning/blob/master/univariate_linear_regression.ipynb\" target=\"_parent\"><img src=\"https://colab.research.google.com/assets/colab-badge.svg\" alt=\"Open In Colab\"/></a>"
      ]
    },
    {
      "cell_type": "markdown",
      "metadata": {
        "id": "tuf3kngOoqks",
        "colab_type": "text"
      },
      "source": [
        "### Univariate linear regression\n",
        "\n",
        "This document showcases the application of gradient descent on univariate linear regression.\n",
        "\n",
        "First off, let's generate some random points in 2D.\n",
        "The points will be stored in an $ m \\times 1 $ matrix, where $ m $ represents the number of training samples or, in our case, the number of generated points.\n",
        "Visually, $ X $ looks like this:\n",
        "\n",
        "$$ \n",
        "X = \n",
        "\\begin{bmatrix}\n",
        "    x_0 \\\\\n",
        "    x_1 \\\\\n",
        "    x_2 \\\\\n",
        "    \\vdots \\\\\n",
        "    x_m\n",
        "\\end{bmatrix}\n",
        "$$\n",
        "\n",
        "We are also adding a column of ones as the first column in the matrix, also known as the *intercept* term. Therefore, $ X $ will look like:\n",
        "\n",
        "$$\n",
        "X = \n",
        "\\begin{bmatrix}\n",
        "    1 & x_0 \\\\\n",
        "    1 & x_1 \\\\\n",
        "    1 & x_2 \\\\\n",
        "    \\vdots & \\vdots \\\\\n",
        "    1 & x_m\n",
        "\\end{bmatrix}\n",
        "$$"
      ]
    },
    {
      "cell_type": "code",
      "metadata": {
        "id": "hBa_ygBpo8TR",
        "colab_type": "code",
        "colab": {
          "base_uri": "https://localhost:8080/",
          "height": 34
        },
        "outputId": "8fe81af2-5750-4a9c-a132-54cbacd4f1e5"
      },
      "source": [
        "import numpy as np\n",
        "\n",
        "low = 0\n",
        "high = 100\n",
        "how_many = 25\n",
        "\n",
        "a = 3\n",
        "b = 4\n",
        "noise_lo = 0\n",
        "noise_hi = 60\n",
        "\n",
        "X = np.random.uniform(low, high, how_many).reshape(-1, 1)\n",
        "\n",
        "noise = np.random.uniform(noise_lo, noise_hi, how_many).reshape(-1, 1)\n",
        "y = a * X + b + noise # This is to better see how the line is fitted so it does not overlap with the points\n",
        "\n",
        "X_intercept = np.hstack((np.ones_like(X), X))\n",
        "\n",
        "print(X_intercept.shape)\n",
        "\n",
        "\n",
        "m = X.shape[0] # Number of training samples"
      ],
      "execution_count": 306,
      "outputs": [
        {
          "output_type": "stream",
          "text": [
            "(25, 2)\n"
          ],
          "name": "stdout"
        }
      ]
    },
    {
      "cell_type": "markdown",
      "metadata": {
        "id": "ij6VgaZHqadj",
        "colab_type": "text"
      },
      "source": [
        "Now let's initialize our regressor. $ \\theta $ will be a matrix of two elements of size $ 2 \\times 1 $, like this:\n",
        "\n",
        "$$\n",
        "\\theta = \n",
        "\\begin{bmatrix}\n",
        "    \\theta_0 \\\\\n",
        "    \\theta_1 \n",
        "\\end{bmatrix}\n",
        "$$\n"
      ]
    },
    {
      "cell_type": "code",
      "metadata": {
        "id": "p7a5Fg_-uiv9",
        "colab_type": "code",
        "colab": {
          "base_uri": "https://localhost:8080/",
          "height": 119
        },
        "outputId": "efb15678-46dc-4875-a6e5-53c5a8811b1a"
      },
      "source": [
        "import tqdm\n",
        "\n",
        "theta = np.array([0.5, 0.5]).reshape(-1, 1)\n",
        "\n",
        "J_hist = []\n",
        "\n",
        "# Hyper parameters\n",
        "epochs = 100\n",
        "learning_rate = 1e-4\n",
        "\n",
        "for n_ep in tqdm.tqdm(range(epochs)):\n",
        "    \n",
        "    # Compute outputs\n",
        "\n",
        "    y_hat = X_intercept @ theta\n",
        "\n",
        "    # Compute additional helper value - delta\n",
        "    delta = y_hat - y\n",
        "\n",
        "    # Cost function\n",
        "    J = (delta.T @ delta) / (2 * m)\n",
        "\n",
        "    J_hist.append(J)\n",
        "\n",
        "    # Derivative\n",
        "    djdw = (1 / m) * (X_intercept.T @ delta)\n",
        "\n",
        "    # Update weights\n",
        "    theta -= learning_rate * djdw\n",
        "\n",
        "print('\\n')\n",
        "print('Final theta is: {} {}'.format(theta[0], theta[1]))\n",
        "print('Real theta is: {} {}'.format(b, a))"
      ],
      "execution_count": 326,
      "outputs": [
        {
          "output_type": "stream",
          "text": [
            "\n",
            "100%|██████████| 100/100 [00:00<00:00, 41750.99it/s]"
          ],
          "name": "stderr"
        },
        {
          "output_type": "stream",
          "text": [
            "\n",
            "\n",
            "Final theta is: [0.61096473] [3.62346657]\n",
            "Real theta is: 4 3\n"
          ],
          "name": "stdout"
        },
        {
          "output_type": "stream",
          "text": [
            "\n"
          ],
          "name": "stderr"
        }
      ]
    },
    {
      "cell_type": "code",
      "metadata": {
        "id": "T-qDbiiFNLmb",
        "colab_type": "code",
        "outputId": "2013c63e-4733-4a39-ef55-f6ad41231d1d",
        "colab": {
          "base_uri": "https://localhost:8080/",
          "height": 268
        }
      },
      "source": [
        "import matplotlib.pyplot as plt\n",
        "import seaborn as sns\n",
        "\n",
        "sns.set()\n",
        "\n",
        "fig, ax = plt.subplots()\n",
        "\n",
        "# Plot the points first\n",
        "ax.scatter(y, X)\n",
        "\n",
        "xs = np.arange(low, high, 0.1).reshape(-1, 1)\n",
        "xs = np.hstack((np.ones_like(xs), xs))\n",
        "\n",
        "ys = xs @ theta\n",
        "\n",
        "ax.plot(ys, xs[:, 1], color='red')\n",
        "\n",
        "plt.show()\n",
        "\n",
        "\n",
        "\n",
        "\n",
        "\n"
      ],
      "execution_count": 325,
      "outputs": [
        {
          "output_type": "display_data",
          "data": {
            "image/png": "[encoded data removed]",
            "text/plain": [
              "<Figure size 432x288 with 1 Axes>"
            ]
          },
          "metadata": {
            "tags": []
          }
        }
      ]
    },
    {
      "cell_type": "code",
      "metadata": {
        "id": "LxPvthDvxkmW",
        "colab_type": "code",
        "colab": {}
      },
      "source": [
        ""
      ],
      "execution_count": 0,
      "outputs": []
    }
  ]
}