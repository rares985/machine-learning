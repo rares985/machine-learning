{
  "nbformat": 4,
  "nbformat_minor": 0,
  "metadata": {
    "colab": {
      "name": "multivariate_linear_regression.ipynb",
      "provenance": [],
      "collapsed_sections": [],
      "authorship_tag": "ABX9TyOHV3RfkbnIQ/7N8JbtO+St",
      "include_colab_link": true
    },
    "kernelspec": {
      "name": "python3",
      "display_name": "Python 3"
    }
  },
  "cells": [
    {
      "cell_type": "markdown",
      "metadata": {
        "id": "view-in-github",
        "colab_type": "text"
      },
      "source": [
        "<a href=\"https://colab.research.google.com/github/rares985/machine-learning/blob/master/multivariate_linear_regression.ipynb\" target=\"_parent\"><img src=\"https://colab.research.google.com/assets/colab-badge.svg\" alt=\"Open In Colab\"/></a>"
      ]
    },
    {
      "cell_type": "markdown",
      "metadata": {
        "id": "i88w0M9QzP0U",
        "colab_type": "text"
      },
      "source": [
        "### Multivariate linear regression\n",
        "\n",
        "\n",
        "Let's first load the training data from Keras:"
      ]
    },
    {
      "cell_type": "code",
      "metadata": {
        "id": "ChYUOMnLzPFz",
        "colab_type": "code",
        "colab": {}
      },
      "source": [
        "import tensorflow as tf\n",
        "\n",
        "(X_train, y_train), (X_test, y_test) = tf.keras.datasets.boston_housing.load_data(\n",
        "    path=\"boston_housing.npz\",\n",
        "    test_split=0.2,\n",
        "    seed=7331\n",
        ")\n",
        "\n",
        "m = X_train.shape[0]\n",
        "n = X_train.shape[1]\n",
        "\n",
        "theta = np.random.randn(n+1, 1)*np.sqrt(2/m)"
      ],
      "execution_count": 0,
      "outputs": []
    },
    {
      "cell_type": "markdown",
      "metadata": {
        "id": "sAsRhCuDt8Ic",
        "colab_type": "text"
      },
      "source": [
        "Same as before, we added a column of $ 1 $ to serve as the Xs to the biases.\n",
        "We are also reshaping $ \\mathbf{y} $ to be an $ m \\times 1 $ matrix instead of a vector, because in NumPy, a ```(m,1)``` matrix(which is $\\hat{y}$) minus a ```(m,)``` vector (which is currently $y_{train}$) results in element-wise subtraction and therefore in an $m \\times m $ size matrix.\n"
      ]
    },
    {
      "cell_type": "code",
      "metadata": {
        "id": "LZjsxaHft_TZ",
        "colab_type": "code",
        "colab": {
          "base_uri": "https://localhost:8080/",
          "height": 34
        },
        "outputId": "29283d96-98bd-42f7-f5f0-3c7c9c467de1"
      },
      "source": [
        "X_intercept = np.hstack((np.ones((X_train.shape[0],1)), X_train))\n",
        "y_train = y_train.reshape(-1, 1)\n",
        "print(X_intercept.shape)"
      ],
      "execution_count": 50,
      "outputs": [
        {
          "output_type": "stream",
          "text": [
            "(404, 14)\n"
          ],
          "name": "stdout"
        }
      ]
    },
    {
      "cell_type": "markdown",
      "metadata": {
        "id": "b7oIPHQjvvH6",
        "colab_type": "text"
      },
      "source": [
        "The entire process is visually explained. First we are computing the regressor's\n",
        "outputs, $\\hat{y}$:\n",
        "\n",
        "$$\n",
        "\\mathbf{\\hat{y}}=X_{intercept}\\times\\boldsymbol{\\theta}= \n",
        "\\begin{bmatrix}\n",
        "    x_0^{(1)}=1 & \\dots & x_n^{(1)} \\\\\n",
        "    x_0^{(2)}=1 & \\dots & x_n^{(2)} \\\\\n",
        "    \\vdots &  \\ddots & \\vdots \\\\\n",
        "    x_0^{(m)}=1 & \\dots & x_n^{(m)}\n",
        "\\end{bmatrix}\n",
        "\\times\n",
        "\\begin{bmatrix}\n",
        "    \\theta_0 \\\\\n",
        "    \\theta_1 \\\\\n",
        "    \\vdots   \\\\\n",
        "    \\theta_n\n",
        "\\end{bmatrix}\n",
        "$$"
      ]
    },
    {
      "cell_type": "code",
      "metadata": {
        "id": "WQcS2wGyu_-l",
        "colab_type": "code",
        "colab": {}
      },
      "source": [
        "y_hat = X_intercept @ theta"
      ],
      "execution_count": 0,
      "outputs": []
    },
    {
      "cell_type": "markdown",
      "metadata": {
        "id": "2zhm8iIQwngO",
        "colab_type": "text"
      },
      "source": [
        "Now we are computing the *error* term $\\delta$, which is the difference between the\n",
        "regressor's output $ \\hat{y} $ and the true output, $ y $:\n",
        "<br><br><br>\n",
        "$$\n",
        "\\boldsymbol{\\delta}=\\mathbf{\\hat{y}}-\\mathbf{y}=\n",
        "\\begin{bmatrix}\n",
        "    \\delta^{(1)} \\\\\n",
        "    \\delta^{(2)} \\\\\n",
        "    \\vdots \\\\\n",
        "    \\delta^{(m)} \\\\\n",
        "\\end{bmatrix}\n",
        "=\n",
        "\\begin{bmatrix}\n",
        "    \\hat{y}^{(1)} - y^{(1)} \\\\\n",
        "    \\hat{y}^{(2)} - y^{(2)}\\\\\n",
        "    \\vdots   \\\\\n",
        "    \\hat{y}^{(m)} - y^{(m)}\n",
        "\\end{bmatrix}\n",
        "$$\n",
        "<br><br><br>\n",
        "Cost function is defined as below, and can be written in matrix form depending only on the $\\delta$ term:\n",
        "<br><br><br>\n",
        "$$\n",
        "J=\\frac{1}{2m}\\sum_{i=1}^{m}(\\hat{y}^{(i)} - y^{(i)})^2=\n",
        "\\frac{1}{2m}{\\boldsymbol{\\delta^{T}}}{\\boldsymbol{\\delta}}=\n",
        "\\frac{1}{2m}\\begin{bmatrix}\n",
        "    \\delta^{(1)} &\n",
        "    \\delta^{(2)} &\n",
        "    \\dots &\n",
        "    \\delta^{(m)}\n",
        "\\end{bmatrix}\n",
        "\\begin{bmatrix}\n",
        "    \\delta^{(1)} \\\\\n",
        "    \\delta^{(2)} \\\\\n",
        "    \\vdots \\\\\n",
        "    \\delta^{(m)} \\\\\n",
        "\\end{bmatrix}\n",
        "$$"
      ]
    },
    {
      "cell_type": "code",
      "metadata": {
        "id": "dp8qo1hMwn0d",
        "colab_type": "code",
        "colab": {}
      },
      "source": [
        "    delta = y_hat - y_train\n",
        "    J = (delta.T @ delta)/(2*m)"
      ],
      "execution_count": 0,
      "outputs": []
    },
    {
      "cell_type": "markdown",
      "metadata": {
        "id": "hzKmrtsuFhmi",
        "colab_type": "text"
      },
      "source": [
        "The derivative of $ J $, the cost function, with respect to the weights $\\theta$, is computed as below. Since $\\theta$ is a multi-dimensional vector,\n",
        "the matrix $ \\nabla $ bears the name of [*gradient*](https://en.wikipedia.org/wiki/Gradient):\n",
        "<br><br><br>\n",
        "$$\n",
        "\\nabla_{\\theta}J=\n",
        "\\frac{1}{m}\n",
        "\\begin{bmatrix}\n",
        "    \\frac{dJ}{d\\theta_0} \\\\\n",
        "    \\frac{dJ}{d\\theta_1} \\\\\n",
        "    \\vdots \\\\\n",
        "    \\frac{dJ}{d\\theta_n} \\\\\n",
        "\\end{bmatrix}\n",
        "=\\frac{1}{m}(X_{intercept}^T \\times \\boldsymbol{\\theta})=\n",
        "\\frac{1}{m}\n",
        "\\begin{bmatrix}\n",
        "    x_0^{(1)}=1  & x_0^{(2)}=1 & \\dots & x_0^{(m)}\\\\\n",
        "    x_1^{(1)}  & x_1^{(2)} & \\dots & x_1^{(m)}\\\\\n",
        "    \\vdots & \\vdots & \\ddots & \\vdots \\\\\n",
        "    x_n^{(1)}  & x_n^{(2)} & \\dots & x_n^{(m)}\\\\\n",
        "\\end{bmatrix}\n",
        "\\times\n",
        "\\begin{bmatrix}\n",
        "    \\delta^{(1)} \\\\\n",
        "    \\delta^{(2)} \\\\\n",
        "    \\vdots \\\\\n",
        "    \\delta^{(m)}\n",
        "\\end{bmatrix}\n",
        "$$\n",
        "<br><br><br>\n",
        "After computing the gradient of $ J $, we are performing the Gradient descent weight update in vector form, since the updates to the individual weights must\n",
        "be done simultaneously:\n",
        "<br><br><br>\n",
        "$$\n",
        "\\boldsymbol{\\theta} = \\boldsymbol{\\theta} - \\alpha \\cdot \\nabla_{\\theta}J\n",
        "$$\n",
        "\n"
      ]
    },
    {
      "cell_type": "code",
      "metadata": {
        "id": "vLWknetOxQj3",
        "colab_type": "code",
        "colab": {}
      },
      "source": [
        "    djdw = (X_intercept.T @ delta) * (1/m)\n",
        "    theta -= learning_rate * djdw"
      ],
      "execution_count": 0,
      "outputs": []
    },
    {
      "cell_type": "markdown",
      "metadata": {
        "id": "2OPJribVxSSu",
        "colab_type": "text"
      },
      "source": [
        "Now wrapping all the operations explained before in a ```for``` clause:"
      ]
    },
    {
      "cell_type": "code",
      "metadata": {
        "id": "aPSdBnfeAwBR",
        "colab_type": "code",
        "colab": {
          "base_uri": "https://localhost:8080/",
          "height": 34
        },
        "outputId": "a69922a5-89b1-41d3-a16d-24ffa8f55b2d"
      },
      "source": [
        "import tqdm\n",
        "import numpy as np\n",
        "\n",
        "learning_rate = 1e-6\n",
        "epochs = 25\n",
        "# Theta is re-initalized here in case of multiple runs\n",
        "theta = np.random.randn(n+1, 1)*np.sqrt(2/m)\n",
        "\n",
        "J_hist = []\n",
        "for n_ep in tqdm.tqdm(range(epochs)):\n",
        "    y_hat = X_intercept @ theta\n",
        "\n",
        "    delta = y_hat - y_train\n",
        "\n",
        "    J = (delta.T @ delta)/(2*m)\n",
        "    J_hist.append(J[0, 0])\n",
        "\n",
        "    djdw = (X_intercept.T @ delta) * (1/m)\n",
        "\n",
        "    theta -= learning_rate * djdw"
      ],
      "execution_count": 55,
      "outputs": [
        {
          "output_type": "stream",
          "text": [
            "100%|██████████| 25/25 [00:00<00:00, 5620.58it/s]\n"
          ],
          "name": "stderr"
        }
      ]
    },
    {
      "cell_type": "markdown",
      "metadata": {
        "id": "xcPrAWYby40_",
        "colab_type": "text"
      },
      "source": [
        "Let's plot the cost function evolution so that we can see it decreases over time:"
      ]
    },
    {
      "cell_type": "code",
      "metadata": {
        "id": "T0VVZEijy9Wm",
        "colab_type": "code",
        "colab": {
          "base_uri": "https://localhost:8080/",
          "height": 302
        },
        "outputId": "75bcf9d7-2858-4220-a90f-2ce2e4171ebc"
      },
      "source": [
        "import seaborn as sns\n",
        "sns.set()\n",
        "\n",
        "plt.plot(J_hist)\n",
        "plt.xlabel(\"Epoch\")\n",
        "plt.ylabel(\"Cost function\")"
      ],
      "execution_count": 56,
      "outputs": [
        {
          "output_type": "execute_result",
          "data": {
            "text/plain": [
              "Text(0, 0.5, 'Cost function')"
            ]
          },
          "metadata": {
            "tags": []
          },
          "execution_count": 56
        },
        {
          "output_type": "display_data",
          "data": {
            "image/png": "[encoded data removed]",
            "text/plain": [
              "<Figure size 432x288 with 1 Axes>"
            ]
          },
          "metadata": {
            "tags": []
          }
        }
      ]
    },
    {
      "cell_type": "markdown",
      "metadata": {
        "id": "FEhDLV-izFqQ",
        "colab_type": "text"
      },
      "source": [
        "And now let's check some of the regressor's predictions against the real prices:"
      ]
    },
    {
      "cell_type": "code",
      "metadata": {
        "id": "ROCS7I1cCfcB",
        "colab_type": "code",
        "colab": {
          "base_uri": "https://localhost:8080/",
          "height": 359
        },
        "outputId": "7062f256-fc0a-490f-f3dd-7ef5575083da"
      },
      "source": [
        "import pandas as pd\n",
        "\n",
        "X_test_intercept = np.hstack((np.ones((X_test.shape[0],1)), X_test))\n",
        "y_pred = (X_test_intercept @ theta).reshape(X_test.shape[0],)\n",
        "\n",
        "\n",
        "\n",
        "data = {'Actual price':y_test, 'Predicted price':y_pred}\n",
        "df = pd.DataFrame(data=data)\n",
        "df.head(n=10)"
      ],
      "execution_count": 59,
      "outputs": [
        {
          "output_type": "execute_result",
          "data": {
            "text/html": [
              "<div>\n",
              "<style scoped>\n",
              "    .dataframe tbody tr th:only-of-type {\n",
              "        vertical-align: middle;\n",
              "    }\n",
              "\n",
              "    .dataframe tbody tr th {\n",
              "        vertical-align: top;\n",
              "    }\n",
              "\n",
              "    .dataframe thead th {\n",
              "        text-align: right;\n",
              "    }\n",
              "</style>\n",
              "<table border=\"1\" class=\"dataframe\">\n",
              "  <thead>\n",
              "    <tr style=\"text-align: right;\">\n",
              "      <th></th>\n",
              "      <th>Actual price</th>\n",
              "      <th>Predicted price</th>\n",
              "    </tr>\n",
              "  </thead>\n",
              "  <tbody>\n",
              "    <tr>\n",
              "      <th>0</th>\n",
              "      <td>20.4</td>\n",
              "      <td>21.898676</td>\n",
              "    </tr>\n",
              "    <tr>\n",
              "      <th>1</th>\n",
              "      <td>20.6</td>\n",
              "      <td>19.587011</td>\n",
              "    </tr>\n",
              "    <tr>\n",
              "      <th>2</th>\n",
              "      <td>20.8</td>\n",
              "      <td>27.819532</td>\n",
              "    </tr>\n",
              "    <tr>\n",
              "      <th>3</th>\n",
              "      <td>23.0</td>\n",
              "      <td>30.181237</td>\n",
              "    </tr>\n",
              "    <tr>\n",
              "      <th>4</th>\n",
              "      <td>7.2</td>\n",
              "      <td>28.075973</td>\n",
              "    </tr>\n",
              "    <tr>\n",
              "      <th>5</th>\n",
              "      <td>23.0</td>\n",
              "      <td>19.462966</td>\n",
              "    </tr>\n",
              "    <tr>\n",
              "      <th>6</th>\n",
              "      <td>22.6</td>\n",
              "      <td>25.260326</td>\n",
              "    </tr>\n",
              "    <tr>\n",
              "      <th>7</th>\n",
              "      <td>23.6</td>\n",
              "      <td>19.631041</td>\n",
              "    </tr>\n",
              "    <tr>\n",
              "      <th>8</th>\n",
              "      <td>21.9</td>\n",
              "      <td>24.732199</td>\n",
              "    </tr>\n",
              "    <tr>\n",
              "      <th>9</th>\n",
              "      <td>14.9</td>\n",
              "      <td>24.493940</td>\n",
              "    </tr>\n",
              "  </tbody>\n",
              "</table>\n",
              "</div>"
            ],
            "text/plain": [
              "   Actual price  Predicted price\n",
              "0          20.4        21.898676\n",
              "1          20.6        19.587011\n",
              "2          20.8        27.819532\n",
              "3          23.0        30.181237\n",
              "4           7.2        28.075973\n",
              "5          23.0        19.462966\n",
              "6          22.6        25.260326\n",
              "7          23.6        19.631041\n",
              "8          21.9        24.732199\n",
              "9          14.9        24.493940"
            ]
          },
          "metadata": {
            "tags": []
          },
          "execution_count": 59
        }
      ]
    },
    {
      "cell_type": "code",
      "metadata": {
        "id": "7wNrbauDzhnl",
        "colab_type": "code",
        "colab": {}
      },
      "source": [
        ""
      ],
      "execution_count": 0,
      "outputs": []
    }
  ]
}